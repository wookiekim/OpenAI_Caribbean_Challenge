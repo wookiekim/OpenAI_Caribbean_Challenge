{
 "cells": [
  {
   "cell_type": "code",
   "execution_count": 70,
   "metadata": {},
   "outputs": [],
   "source": [
    "import geopandas as gpd\n",
    "import numpy as np\n",
    "import rasterio\n",
    "from rasterio.mask import mask\n",
    "from rasterio.plot import show\n",
    "from pathlib import Path\n",
    "import pandas as pd\n",
    "from PIL import Image\n",
    "%matplotlib inline"
   ]
  },
  {
   "cell_type": "code",
   "execution_count": 31,
   "metadata": {},
   "outputs": [],
   "source": [
    "curr_path = Path('')\n",
    "data_path = curr_path / './vision_project'\n",
    "stac_path = data_path / 'stac'\n",
    "\n",
    "sub_df = pd.read_csv('./vision_project/submission_format.csv')\n",
    "trn_df = pd.read_csv('./vision_project/train_labels.csv')\n",
    "met_df = pd.read_csv('./vision_project/metadata.csv')\n",
    "\n",
    "tiff_paths = list(met_df.image.values)\n",
    "train_geo_paths = list(met_df.train.values)\n",
    "test_geo_paths = list(met_df.test.values)"
   ]
  },
  {
   "cell_type": "code",
   "execution_count": 90,
   "metadata": {},
   "outputs": [],
   "source": [
    "for fpath_tiff, train_geojson in zip(tiff_paths, train_geo_paths):\n",
    "    train_geojson = str(data_path / train_geojson)\n",
    "    df_roof_geometries = gpd.read_file(train_geojson)\n",
    "    \n",
    "    fpath_tiff = str(data_path / fpath_tiff)\n",
    "    \n",
    "    with rasterio.open(fpath_tiff) as tiff:\n",
    "        tiff_crs = tiff.crs.data\n",
    "        df_roof_geometries['projected_geometry'] = (\n",
    "            df_roof_geometries[['geometry']].to_crs(tiff_crs)\n",
    "        )\n",
    "    \n",
    "    roof_geometries = (\n",
    "        df_roof_geometries[['id', 'projected_geometry','roof_material']].values)\n",
    "    \n",
    "    with rasterio.open(fpath_tiff) as tiff:\n",
    "        for roof_id, projected_geometry, roof_material in roof_geometries:\n",
    "            roof_image, _ = mask(\n",
    "                tiff, [projected_geometry], crop=True, pad=True,\n",
    "                filled=False, pad_width=0.5\n",
    "            )\n",
    "            roof_image = np.transpose(roof_image, (1, 2, 0))\n",
    "            roof_mask, _ = mask(\n",
    "                tiff, [projected_geometry], crop=True, pad=True,\n",
    "                filled=True, pad_width=0.5\n",
    "            )\n",
    "            roof_mask = np.transpose(roof_mask, (1, 2, 0))\n",
    "            \n",
    "            pil_img = Image.fromarray(np.array(roof_image))\n",
    "            save_path = str(data_path / \"training/unmasked/{}/{}.png\".format(roof_material, roof_id))\n",
    "            pil_img.save(save_path)"
   ]
  },
  {
   "cell_type": "code",
   "execution_count": 91,
   "metadata": {},
   "outputs": [],
   "source": [
    "for fpath_tiff, test_geojson in zip(tiff_paths, test_geo_paths):\n",
    "    test_geojson = str(data_path / test_geojson)\n",
    "    df_roof_geometries = gpd.read_file(test_geojson)\n",
    "    \n",
    "    fpath_tiff = str(data_path / fpath_tiff)\n",
    "    \n",
    "    with rasterio.open(fpath_tiff) as tiff:\n",
    "        tiff_crs = tiff.crs.data\n",
    "        df_roof_geometries['projected_geometry'] = (\n",
    "            df_roof_geometries[['geometry']].to_crs(tiff_crs)\n",
    "        )\n",
    "    \n",
    "    roof_geometries = (\n",
    "        df_roof_geometries[['id', 'projected_geometry']].values)\n",
    "    \n",
    "    with rasterio.open(fpath_tiff) as tiff:\n",
    "        for roof_id, projected_geometry in roof_geometries:\n",
    "            roof_image, _ = mask(\n",
    "                tiff, [projected_geometry], crop=True, pad=True,\n",
    "                filled=False, pad_width=0.5\n",
    "            )\n",
    "            roof_image = np.transpose(roof_image, (1, 2, 0))\n",
    "            roof_mask, _ = mask(\n",
    "                tiff, [projected_geometry], crop=True, pad=True,\n",
    "                filled=True, pad_width=0.5\n",
    "            )\n",
    "            roof_mask = np.transpose(roof_mask, (1, 2, 0))\n",
    "            \n",
    "            pil_img = Image.fromarray(np.array(roof_mask))\n",
    "            save_path = str(data_path / \"testing/masked/{}.png\".format(roof_id))\n",
    "            pil_img.save(save_path)\n",
    "            \n",
    "            pil_img = Image.fromarray(np.array(roof_image))\n",
    "            save_path = str(data_path / \"testing/unmasked/{}.png\".format(roof_id))\n",
    "            pil_img.save(save_path)"
   ]
  }
 ],
 "metadata": {
  "kernelspec": {
   "display_name": "Python 3",
   "language": "python",
   "name": "python3"
  },
  "language_info": {
   "codemirror_mode": {
    "name": "ipython",
    "version": 3
   },
   "file_extension": ".py",
   "mimetype": "text/x-python",
   "name": "python",
   "nbconvert_exporter": "python",
   "pygments_lexer": "ipython3",
   "version": "3.6.7"
  }
 },
 "nbformat": 4,
 "nbformat_minor": 2
}
