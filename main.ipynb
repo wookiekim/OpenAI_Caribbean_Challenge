{
 "cells": [
  {
   "cell_type": "code",
   "execution_count": 1,
   "metadata": {},
   "outputs": [],
   "source": [
    "import argparse\n",
    "import os\n",
    "import glob\n",
    "\n",
    "#load data\n",
    "from torch.utils.data import Dataset, DataLoader\n",
    "import pandas as pd\n",
    "from torchvision import transforms, utils, datasets\n",
    "\n",
    "from PIL import Image\n",
    "import torch\n",
    "from torch import nn\n",
    "from torch.nn import functional as F\n",
    "import torch.nn as nn\n",
    "import torch.optim as optim\n",
    "from torch.optim import lr_scheduler\n",
    "import torchvision\n",
    "from torchvision import datasets, models, transforms\n",
    "import matplotlib.pyplot as plt\n",
    "import numpy as np\n",
    "import SYNet\n",
    "import time\n",
    "import copy\n",
    "import csv\n"
   ]
  },
  {
   "cell_type": "code",
   "execution_count": 2,
   "metadata": {},
   "outputs": [],
   "source": [
    "concrete_cement_type = [1.0, 0.0, 0.0, 0.0, 0.0]\n",
    "healthy_metal_type = [0.0, 1.0, 0.0, 0.0, 0.0]\n",
    "incomplete_type = [0.0, 0.0, 1.0, 0.0, 0.0]\n",
    "irregular_metal_type = [0.0, 0.0, 0.0, 1.0, 0.0]\n",
    "other_type = [0.0, 0.0, 0.0, 0.0, 1.0]"
   ]
  },
  {
   "cell_type": "code",
   "execution_count": 3,
   "metadata": {},
   "outputs": [],
   "source": [
    "concrete_cement_images = glob.glob('./training/unmasked/concrete_cement/*.png')\n",
    "a= [concrete_cement_type] * len(concrete_cement_images)\n",
    "\n",
    "healthy_metal_images = glob.glob('./training/masked/healthy_metal/*.png')\n",
    "b=[healthy_metal_type] * len(healthy_metal_images)\n",
    "\n",
    "incomplete_images = glob.glob('./training/masked/incomplete/*.png')\n",
    "c=[incomplete_type] * len(incomplete_images)\n",
    "\n",
    "irregular_metal_images = glob.glob('./training/masked/irregular_metal/*.png')\n",
    "d=[irregular_metal_type]  * len(irregular_metal_images)\n",
    "\n",
    "other_images = glob.glob('./training/masked/other/*.png')\n",
    "e=[other_type] * len(other_images)\n",
    "\n",
    "train_images = [concrete_cement_images, healthy_metal_images, incomplete_images, irregular_metal_images, other_images]\n",
    "train_images_labels = [a,b,c,d,e]\n",
    "\n",
    "train_images = [item for sublist in train_images for item in sublist]\n",
    "train_images_labels = [item for sublist in train_images_labels for item in sublist]\n",
    "\n",
    "test_images = list(pd.read_csv(\"submission_format.csv\",index_col=0).index.values)\n",
    "test_images = ['./testing/masked/' + str(i) + '.png' for i in test_images]\n",
    "#test_images = glob.glob('./testing/masked/*.png')"
   ]
  },
  {
   "cell_type": "code",
   "execution_count": 4,
   "metadata": {},
   "outputs": [
    {
     "data": {
      "text/plain": [
       "'./testing/masked/7a4d630a.png'"
      ]
     },
     "execution_count": 4,
     "metadata": {},
     "output_type": "execute_result"
    }
   ],
   "source": [
    "test_images[0]"
   ]
  },
  {
   "cell_type": "code",
   "execution_count": 5,
   "metadata": {},
   "outputs": [],
   "source": [
    "class RoofDataset(Dataset):\n",
    "    def __init__(self, train_image_paths, train_images_labels,transform=None):\n",
    "        self.image_paths = train_image_paths\n",
    "        self.image_labels = train_images_labels\n",
    "        self.transform=transform\n",
    "        \n",
    "    def __getitem__(self, index):\n",
    "        roof_image = Image.open(self.image_paths[index])\n",
    "        roof_image = roof_image.convert('RGB')\n",
    "        plt.imshow(roof_image)\n",
    "        if self.transform is not None:\n",
    "            roof_image = self.transform(roof_image)\n",
    "        \n",
    "        material_type = torch.LongTensor(self.image_labels[index])\n",
    "        return roof_image, material_type    \n",
    "    \n",
    "    def __len__(self):\n",
    "        return len(self.image_paths)"
   ]
  },
  {
   "cell_type": "code",
   "execution_count": 6,
   "metadata": {},
   "outputs": [],
   "source": [
    "class RoofTestDataset(Dataset):\n",
    "    def __init__(self, image_paths,transform=None):\n",
    "        self.image_paths = image_paths\n",
    "        self.transform=transform\n",
    "        \n",
    "    def __getitem__(self, index):\n",
    "        roof_id = self.image_paths[index].replace('./testing/masked/','').replace('.png','')\n",
    "        #print(\"Replaced:\", roof_id)\n",
    "        roof_image = Image.open(self.image_paths[index])\n",
    "        roof_image = roof_image.convert('RGB')\n",
    "        plt.imshow(roof_image)\n",
    "        if self.transform is not None:\n",
    "            roof_image = self.transform(roof_image)\n",
    "        return roof_image, roof_id\n",
    "    \n",
    "    def __len__(self):\n",
    "        return len(self.image_paths)"
   ]
  },
  {
   "cell_type": "code",
   "execution_count": 7,
   "metadata": {},
   "outputs": [],
   "source": [
    "transformations = transforms.Compose([transforms.Resize((224,224)),transforms.ToTensor()])\n",
    "train_dataset = RoofDataset(train_images, train_images_labels,transformations)\n",
    "\n",
    "train_loader = DataLoader(train_dataset,\n",
    "                          batch_size=32,\n",
    "                          shuffle=True,\n",
    "                          num_workers=0\n",
    "                         )\n",
    "\n",
    "test_dataset = RoofTestDataset(test_images, transformations)\n",
    "test_loader = DataLoader(test_dataset,\n",
    "                        batch_size = 1,\n",
    "                        num_workers = 0)"
   ]
  },
  {
   "cell_type": "code",
   "execution_count": 20,
   "metadata": {},
   "outputs": [
    {
     "ename": "RuntimeError",
     "evalue": "No active exception to reraise",
     "output_type": "error",
     "traceback": [
      "\u001b[0;31m---------------------------------------------------------------------------\u001b[0m",
      "\u001b[0;31mRuntimeError\u001b[0m                              Traceback (most recent call last)",
      "\u001b[0;32m<ipython-input-20-cc2311360c73>\u001b[0m in \u001b[0;36m<module>\u001b[0;34m\u001b[0m\n\u001b[1;32m      3\u001b[0m \u001b[0mmodel_res\u001b[0m \u001b[0;34m=\u001b[0m \u001b[0mSYNet\u001b[0m\u001b[0;34m.\u001b[0m\u001b[0mBaseline\u001b[0m\u001b[0;34m(\u001b[0m\u001b[0;34m)\u001b[0m\u001b[0;34m\u001b[0m\u001b[0;34m\u001b[0m\u001b[0m\n\u001b[1;32m      4\u001b[0m \u001b[0mmodel_res\u001b[0m\u001b[0;34m.\u001b[0m\u001b[0mcuda\u001b[0m\u001b[0;34m(\u001b[0m\u001b[0;34m)\u001b[0m\u001b[0;34m\u001b[0m\u001b[0;34m\u001b[0m\u001b[0m\n\u001b[0;32m----> 5\u001b[0;31m \u001b[0;32mraise\u001b[0m\u001b[0;34m\u001b[0m\u001b[0;34m\u001b[0m\u001b[0m\n\u001b[0m\u001b[1;32m      6\u001b[0m \u001b[0;34m\u001b[0m\u001b[0m\n\u001b[1;32m      7\u001b[0m \u001b[0moptimizer\u001b[0m \u001b[0;34m=\u001b[0m \u001b[0moptim\u001b[0m\u001b[0;34m.\u001b[0m\u001b[0mSGD\u001b[0m\u001b[0;34m(\u001b[0m\u001b[0mmodel_vgg\u001b[0m\u001b[0;34m.\u001b[0m\u001b[0mparameters\u001b[0m\u001b[0;34m(\u001b[0m\u001b[0;34m)\u001b[0m\u001b[0;34m,\u001b[0m \u001b[0mlr\u001b[0m\u001b[0;34m=\u001b[0m\u001b[0;36m0.0001\u001b[0m\u001b[0;34m,\u001b[0m \u001b[0mmomentum\u001b[0m\u001b[0;34m=\u001b[0m\u001b[0;36m0.5\u001b[0m\u001b[0;34m)\u001b[0m\u001b[0;34m\u001b[0m\u001b[0;34m\u001b[0m\u001b[0m\n",
      "\u001b[0;31mRuntimeError\u001b[0m: No active exception to reraise"
     ]
    }
   ],
   "source": [
    "model_vgg = SYNet.VGG_Baseline()\n",
    "model_vgg.cuda()\n",
    "model_res = SYNet.Baseline()\n",
    "model_res.cuda()\n",
    "raise\n",
    "\n",
    "optimizer = optim.SGD(model_vgg.parameters(), lr=0.0001, momentum=0.5)\n",
    "#criterion = torch.nn.functional.softmax(output)\n",
    "criterion = nn.CrossEntropyLoss()\n",
    "\n",
    "def train(epoch):\n",
    "    model_vgg.train()\n",
    "    for batch_idx, (data, target) in enumerate(train_loader):\n",
    "        data, target = data.cuda(async=True), target.cuda(async=True) # On GPU\n",
    "        #data, target = Variable(data), Variable(target)\n",
    "        optimizer.zero_grad()\n",
    "        output = model_vgg(data)\n",
    "        _, idx = torch.max(target,1)\n",
    "        loss = criterion(output, idx)\n",
    "        loss.backward()\n",
    "        optimizer.step()\n",
    "        if batch_idx % 10 == 0:\n",
    "            print('Train Epoch: {} [{}/{} ({:.0f}%)]\\tLoss: {:.6f}'.format(\n",
    "                epoch, batch_idx * len(data), len(train_loader.dataset),\n",
    "                100. * batch_idx / len(train_loader), loss.data))\n",
    "\n",
    "for epoch in range(1,6):\n",
    "    train(epoch)"
   ]
  },
  {
   "cell_type": "code",
   "execution_count": 9,
   "metadata": {},
   "outputs": [],
   "source": [
    "#torch.save(model.state_dict(), './models/vgg16_5_0.0001.pt')"
   ]
  },
  {
   "cell_type": "code",
   "execution_count": 21,
   "metadata": {},
   "outputs": [
    {
     "data": {
      "text/plain": [
       "<All keys matched successfully>"
      ]
     },
     "execution_count": 21,
     "metadata": {},
     "output_type": "execute_result"
    }
   ],
   "source": [
    "model_vgg.load_state_dict(torch.load('./models/vgg16_5_0.0001.pt'))"
   ]
  },
  {
   "cell_type": "code",
   "execution_count": 22,
   "metadata": {},
   "outputs": [
    {
     "data": {
      "text/plain": [
       "<All keys matched successfully>"
      ]
     },
     "execution_count": 22,
     "metadata": {},
     "output_type": "execute_result"
    }
   ],
   "source": [
    "model_res.load_state_dict(torch.load('./models/resnet18_5_0.0001.pt'))"
   ]
  },
  {
   "cell_type": "code",
   "execution_count": 23,
   "metadata": {},
   "outputs": [
    {
     "data": {
      "image/png": "[encoded data removed]",
      "text/plain": [
       "<Figure size 432x288 with 1 Axes>"
      ]
     },
     "metadata": {
      "needs_background": "light"
     },
     "output_type": "display_data"
    }
   ],
   "source": [
    "for p in model.parameters():\n",
    "    if p.grad is not None:\n",
    "        del p.grad\n",
    "torch.cuda.empty_cache()\n",
    "\n",
    "test_id = []\n",
    "test_label = []\n",
    "list_from_labelTensor = []\n",
    "\n",
    "def test():\n",
    "    model_vgg.eval()\n",
    "    model_res.eval()\n",
    "    predictions = []\n",
    "    for data, roof_id in test_loader:\n",
    "        replaced_roof_id = roof_id[0]\n",
    "        test_id.append(replaced_roof_id)\n",
    "       # print(replaced_roof_id)\n",
    "        data = data.cuda(async=True) # On GPU\n",
    "        output_vgg = model_vgg(data)\n",
    "        output_res = model_res(data)\n",
    "        list_from_labelTensor = torch.nn.functional.softmax(output_vgg + output_res, dim=1).tolist()\n",
    "        #print(replaced_roof_id, list_from_labelTensor)\n",
    "        test_label.append(list_from_labelTensor)\n",
    "        \n",
    "        \n",
    "test()\n",
    "#print(len(test_id), len(test_label))\n"
   ]
  },
  {
   "cell_type": "code",
   "execution_count": 24,
   "metadata": {
    "scrolled": true
   },
   "outputs": [
    {
     "name": "stdout",
     "output_type": "stream",
     "text": [
      "7325 7325\n"
     ]
    }
   ],
   "source": [
    "print(len(test_id), len(test_label))\n"
   ]
  },
  {
   "cell_type": "code",
   "execution_count": 25,
   "metadata": {},
   "outputs": [],
   "source": [
    "submission_dict = {}\n",
    "submission_dict['id'] = []\n",
    "submission_dict['concrete_cement'] = [] \n",
    "submission_dict['healthy_metal'] = []\n",
    "submission_dict['incomplete'] = []\n",
    "submission_dict['irregular_metal'] = []\n",
    "submission_dict['other'] = []\n",
    "\n",
    "for i, j in zip(test_id, test_label):\n",
    "    submission_dict['id'].append(i)\n",
    "    submission_dict['concrete_cement'].append(j[0][0])\n",
    "    submission_dict['healthy_metal'].append(j[0][1])\n",
    "    submission_dict['incomplete'].append(j[0][2])\n",
    "    submission_dict['irregular_metal'].append(j[0][3])\n",
    "    submission_dict['other'].append(j[0][4])\n",
    "    "
   ]
  },
  {
   "cell_type": "code",
   "execution_count": 26,
   "metadata": {
    "scrolled": true
   },
   "outputs": [],
   "source": [
    "pd.DataFrame(submission_dict).to_csv(\"submission_result.csv\")\n",
    "sub_df = pd.read_csv(\"submission_result.csv\",index_col=0)"
   ]
  },
  {
   "cell_type": "code",
   "execution_count": 27,
   "metadata": {
    "scrolled": true
   },
   "outputs": [
    {
     "data": {
      "text/html": [
       "<div>\n",
       "<style scoped>\n",
       "    .dataframe tbody tr th:only-of-type {\n",
       "        vertical-align: middle;\n",
       "    }\n",
       "\n",
       "    .dataframe tbody tr th {\n",
       "        vertical-align: top;\n",
       "    }\n",
       "\n",
       "    .dataframe thead th {\n",
       "        text-align: right;\n",
       "    }\n",
       "</style>\n",
       "<table border=\"1\" class=\"dataframe\">\n",
       "  <thead>\n",
       "    <tr style=\"text-align: right;\">\n",
       "      <th></th>\n",
       "      <th>id</th>\n",
       "      <th>concrete_cement</th>\n",
       "      <th>healthy_metal</th>\n",
       "      <th>incomplete</th>\n",
       "      <th>irregular_metal</th>\n",
       "      <th>other</th>\n",
       "    </tr>\n",
       "  </thead>\n",
       "  <tbody>\n",
       "    <tr>\n",
       "      <th>0</th>\n",
       "      <td>7a4d630a</td>\n",
       "      <td>1.204008e-07</td>\n",
       "      <td>0.999658</td>\n",
       "      <td>0.000001</td>\n",
       "      <td>0.000331</td>\n",
       "      <td>0.000009</td>\n",
       "    </tr>\n",
       "    <tr>\n",
       "      <th>1</th>\n",
       "      <td>7a4bbbd6</td>\n",
       "      <td>3.179809e-08</td>\n",
       "      <td>0.999035</td>\n",
       "      <td>0.000004</td>\n",
       "      <td>0.000954</td>\n",
       "      <td>0.000007</td>\n",
       "    </tr>\n",
       "    <tr>\n",
       "      <th>2</th>\n",
       "      <td>7a4ac744</td>\n",
       "      <td>1.563803e-07</td>\n",
       "      <td>0.994573</td>\n",
       "      <td>0.000010</td>\n",
       "      <td>0.005397</td>\n",
       "      <td>0.000020</td>\n",
       "    </tr>\n",
       "    <tr>\n",
       "      <th>3</th>\n",
       "      <td>7a4881fa</td>\n",
       "      <td>2.936670e-05</td>\n",
       "      <td>0.405499</td>\n",
       "      <td>0.001670</td>\n",
       "      <td>0.592495</td>\n",
       "      <td>0.000306</td>\n",
       "    </tr>\n",
       "    <tr>\n",
       "      <th>4</th>\n",
       "      <td>7a4aa4a8</td>\n",
       "      <td>3.624355e-06</td>\n",
       "      <td>0.981013</td>\n",
       "      <td>0.000138</td>\n",
       "      <td>0.018775</td>\n",
       "      <td>0.000070</td>\n",
       "    </tr>\n",
       "    <tr>\n",
       "      <th>...</th>\n",
       "      <td>...</td>\n",
       "      <td>...</td>\n",
       "      <td>...</td>\n",
       "      <td>...</td>\n",
       "      <td>...</td>\n",
       "      <td>...</td>\n",
       "    </tr>\n",
       "    <tr>\n",
       "      <th>7320</th>\n",
       "      <td>7a4f3ff4</td>\n",
       "      <td>1.112922e-05</td>\n",
       "      <td>0.526923</td>\n",
       "      <td>0.000998</td>\n",
       "      <td>0.471800</td>\n",
       "      <td>0.000269</td>\n",
       "    </tr>\n",
       "    <tr>\n",
       "      <th>7321</th>\n",
       "      <td>7a4fc578</td>\n",
       "      <td>9.440728e-06</td>\n",
       "      <td>0.996349</td>\n",
       "      <td>0.000083</td>\n",
       "      <td>0.003359</td>\n",
       "      <td>0.000198</td>\n",
       "    </tr>\n",
       "    <tr>\n",
       "      <th>7322</th>\n",
       "      <td>7a4ac7b2</td>\n",
       "      <td>5.275674e-07</td>\n",
       "      <td>0.988745</td>\n",
       "      <td>0.000038</td>\n",
       "      <td>0.011178</td>\n",
       "      <td>0.000039</td>\n",
       "    </tr>\n",
       "    <tr>\n",
       "      <th>7323</th>\n",
       "      <td>7a47e25e</td>\n",
       "      <td>7.204396e-05</td>\n",
       "      <td>0.557256</td>\n",
       "      <td>0.003668</td>\n",
       "      <td>0.438383</td>\n",
       "      <td>0.000622</td>\n",
       "    </tr>\n",
       "    <tr>\n",
       "      <th>7324</th>\n",
       "      <td>7a4e3f78</td>\n",
       "      <td>1.248980e-05</td>\n",
       "      <td>0.997023</td>\n",
       "      <td>0.000139</td>\n",
       "      <td>0.002595</td>\n",
       "      <td>0.000230</td>\n",
       "    </tr>\n",
       "  </tbody>\n",
       "</table>\n",
       "<p>7325 rows × 6 columns</p>\n",
       "</div>"
      ],
      "text/plain": [
       "            id  concrete_cement  healthy_metal  incomplete  irregular_metal  \\\n",
       "0     7a4d630a     1.204008e-07       0.999658    0.000001         0.000331   \n",
       "1     7a4bbbd6     3.179809e-08       0.999035    0.000004         0.000954   \n",
       "2     7a4ac744     1.563803e-07       0.994573    0.000010         0.005397   \n",
       "3     7a4881fa     2.936670e-05       0.405499    0.001670         0.592495   \n",
       "4     7a4aa4a8     3.624355e-06       0.981013    0.000138         0.018775   \n",
       "...        ...              ...            ...         ...              ...   \n",
       "7320  7a4f3ff4     1.112922e-05       0.526923    0.000998         0.471800   \n",
       "7321  7a4fc578     9.440728e-06       0.996349    0.000083         0.003359   \n",
       "7322  7a4ac7b2     5.275674e-07       0.988745    0.000038         0.011178   \n",
       "7323  7a47e25e     7.204396e-05       0.557256    0.003668         0.438383   \n",
       "7324  7a4e3f78     1.248980e-05       0.997023    0.000139         0.002595   \n",
       "\n",
       "         other  \n",
       "0     0.000009  \n",
       "1     0.000007  \n",
       "2     0.000020  \n",
       "3     0.000306  \n",
       "4     0.000070  \n",
       "...        ...  \n",
       "7320  0.000269  \n",
       "7321  0.000198  \n",
       "7322  0.000039  \n",
       "7323  0.000622  \n",
       "7324  0.000230  \n",
       "\n",
       "[7325 rows x 6 columns]"
      ]
     },
     "execution_count": 27,
     "metadata": {},
     "output_type": "execute_result"
    }
   ],
   "source": [
    "sub_df"
   ]
  },
  {
   "cell_type": "code",
   "execution_count": 28,
   "metadata": {},
   "outputs": [],
   "source": [
    "sub_df.to_csv(\"./submission_result.csv\", index = False)"
   ]
  },
  {
   "cell_type": "code",
   "execution_count": null,
   "metadata": {},
   "outputs": [],
   "source": []
  }
 ],
 "metadata": {
  "kernelspec": {
   "display_name": "Python 3",
   "language": "python",
   "name": "python3"
  },
  "language_info": {
   "codemirror_mode": {
    "name": "ipython",
    "version": 3
   },
   "file_extension": ".py",
   "mimetype": "text/x-python",
   "name": "python",
   "nbconvert_exporter": "python",
   "pygments_lexer": "ipython3",
   "version": "3.6.7"
  }
 },
 "nbformat": 4,
 "nbformat_minor": 2
}
